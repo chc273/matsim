{
 "cells": [
  {
   "cell_type": "markdown",
   "metadata": {},
   "source": [
    "## Query all structures ids/formula that have band structures calculated"
   ]
  },
  {
   "cell_type": "code",
   "execution_count": 1,
   "metadata": {},
   "outputs": [
    {
     "data": {
      "application/vnd.jupyter.widget-view+json": {
       "model_id": "a7655ff21fba44c8b79bf87320a4d4b1",
       "version_major": 2,
       "version_minor": 0
      },
      "text/html": [
       "<p>Failed to display Jupyter Widget of type <code>HBox</code>.</p>\n",
       "<p>\n",
       "  If you're reading this message in the Jupyter Notebook or JupyterLab Notebook, it may mean\n",
       "  that the widgets JavaScript is still loading. If this message persists, it\n",
       "  likely means that the widgets JavaScript library is either not installed or\n",
       "  not enabled. See the <a href=\"https://ipywidgets.readthedocs.io/en/stable/user_install.html\">Jupyter\n",
       "  Widgets Documentation</a> for setup instructions.\n",
       "</p>\n",
       "<p>\n",
       "  If you're reading this message in another frontend (for example, a static\n",
       "  rendering on GitHub or <a href=\"https://nbviewer.jupyter.org/\">NBViewer</a>),\n",
       "  it may mean that your frontend doesn't currently support widgets.\n",
       "</p>\n"
      ],
      "text/plain": [
       "HBox(children=(IntProgress(value=0, max=58329), HTML(value='')))"
      ]
     },
     "metadata": {},
     "output_type": "display_data"
    }
   ],
   "source": [
    "import numpy as np\n",
    "from pymatgen import MPRester, Element\n",
    "\n",
    "def parse_dos(dos):\n",
    "    \"\"\"\n",
    "    Parse a dos object and return energy, density 1D arrays\n",
    "    If the data contains both spin up and down, the method sum them together\n",
    "    \"\"\"\n",
    "    densities = dos.densities\n",
    "    energies = dos.energies\n",
    "    if len(densities) == 2:\n",
    "        return_densities = np.sum(densities.values())\n",
    "    else:\n",
    "        return_densities = list(densities.values())[0]\n",
    "    return energies, return_densities\n",
    "\n",
    "# in case this does not work, set the API explicitly by \n",
    "# mpr = MPRester(MAPI_KEY)\n",
    "mpr = MPRester()\n",
    "ids = mpr.query({'has': 'bandstructure'}, properties=['material_id', 'formula'])"
   ]
  },
  {
   "cell_type": "markdown",
   "metadata": {},
   "source": [
    "## Filtering according to elements"
   ]
  },
  {
   "cell_type": "code",
   "execution_count": 2,
   "metadata": {},
   "outputs": [],
   "source": [
    "FILTER_ELEMENT = 'Li'\n",
    "filtered_ids = [i for i in ids if FILTER_ELEMENT in i['formula']]"
   ]
  },
  {
   "cell_type": "markdown",
   "metadata": {},
   "source": [
    "## Get the dos of the first as example"
   ]
  },
  {
   "cell_type": "code",
   "execution_count": 3,
   "metadata": {},
   "outputs": [],
   "source": [
    "dos = mpr.get_dos_by_material_id(filtered_ids[0]['material_id'])"
   ]
  },
  {
   "cell_type": "markdown",
   "metadata": {},
   "source": [
    "## Get the projected dos"
   ]
  },
  {
   "cell_type": "code",
   "execution_count": 4,
   "metadata": {},
   "outputs": [],
   "source": [
    "projected_dos = dos.get_element_spd_dos(Element(FILTER_ELEMENT))"
   ]
  },
  {
   "cell_type": "code",
   "execution_count": 5,
   "metadata": {},
   "outputs": [],
   "source": [
    "data = {}\n",
    "for i, j in projected_dos.items():\n",
    "    data[i.name] = parse_dos(j)\n"
   ]
  },
  {
   "cell_type": "markdown",
   "metadata": {},
   "source": [
    "## Summary "
   ]
  },
  {
   "cell_type": "code",
   "execution_count": 6,
   "metadata": {},
   "outputs": [],
   "source": [
    "def get_projected_dos(material_id, element):\n",
    "    dos = mpr.get_dos_by_material_id(material_id)\n",
    "    projected_dos = dos.get_element_spd_dos(Element(element))\n",
    "    data = {}\n",
    "    for i, j in projected_dos.items():\n",
    "        data[i.name] = parse_dos(j)\n",
    "    return data"
   ]
  },
  {
   "cell_type": "code",
   "execution_count": 7,
   "metadata": {},
   "outputs": [],
   "source": [
    "all_pdos = get_projected_dos('mp-11489', 'Li')"
   ]
  },
  {
   "cell_type": "code",
   "execution_count": 8,
   "metadata": {},
   "outputs": [
    {
     "data": {
      "text/plain": [
       "(array([-4.77282e+01, -4.75113e+01, -4.72944e+01, -4.70775e+01,\n",
       "        -4.68606e+01, -4.66437e+01, -4.64268e+01, -4.62099e+01,\n",
       "        -4.59930e+01, -4.57761e+01, -4.55592e+01, -4.53423e+01,\n",
       "        -4.51254e+01, -4.49085e+01, -4.46916e+01, -4.44747e+01,\n",
       "        -4.42578e+01, -4.40409e+01, -4.38240e+01, -4.36071e+01,\n",
       "        -4.33902e+01, -4.31733e+01, -4.29565e+01, -4.27396e+01,\n",
       "        -4.25227e+01, -4.23058e+01, -4.20889e+01, -4.18720e+01,\n",
       "        -4.16551e+01, -4.14382e+01, -4.12213e+01, -4.10044e+01,\n",
       "        -4.07875e+01, -4.05706e+01, -4.03537e+01, -4.01368e+01,\n",
       "        -3.99199e+01, -3.97030e+01, -3.94861e+01, -3.92692e+01,\n",
       "        -3.90523e+01, -3.88354e+01, -3.86185e+01, -3.84016e+01,\n",
       "        -3.81848e+01, -3.79679e+01, -3.77510e+01, -3.75341e+01,\n",
       "        -3.73172e+01, -3.71003e+01, -3.68834e+01, -3.66665e+01,\n",
       "        -3.64496e+01, -3.62327e+01, -3.60158e+01, -3.57989e+01,\n",
       "        -3.55820e+01, -3.53651e+01, -3.51482e+01, -3.49313e+01,\n",
       "        -3.47144e+01, -3.44975e+01, -3.42806e+01, -3.40637e+01,\n",
       "        -3.38468e+01, -3.36299e+01, -3.34131e+01, -3.31962e+01,\n",
       "        -3.29793e+01, -3.27624e+01, -3.25455e+01, -3.23286e+01,\n",
       "        -3.21117e+01, -3.18948e+01, -3.16779e+01, -3.14610e+01,\n",
       "        -3.12441e+01, -3.10272e+01, -3.08103e+01, -3.05934e+01,\n",
       "        -3.03765e+01, -3.01596e+01, -2.99427e+01, -2.97258e+01,\n",
       "        -2.95089e+01, -2.92920e+01, -2.90751e+01, -2.88582e+01,\n",
       "        -2.86414e+01, -2.84245e+01, -2.82076e+01, -2.79907e+01,\n",
       "        -2.77738e+01, -2.75569e+01, -2.73400e+01, -2.71231e+01,\n",
       "        -2.69062e+01, -2.66893e+01, -2.64724e+01, -2.62555e+01,\n",
       "        -2.60386e+01, -2.58217e+01, -2.56048e+01, -2.53879e+01,\n",
       "        -2.51710e+01, -2.49541e+01, -2.47372e+01, -2.45203e+01,\n",
       "        -2.43034e+01, -2.40866e+01, -2.38697e+01, -2.36528e+01,\n",
       "        -2.34359e+01, -2.32190e+01, -2.30021e+01, -2.27852e+01,\n",
       "        -2.25683e+01, -2.23514e+01, -2.21345e+01, -2.19176e+01,\n",
       "        -2.17007e+01, -2.14838e+01, -2.12669e+01, -2.10500e+01,\n",
       "        -2.08331e+01, -2.06162e+01, -2.03993e+01, -2.01824e+01,\n",
       "        -1.99655e+01, -1.97486e+01, -1.95317e+01, -1.93149e+01,\n",
       "        -1.90980e+01, -1.88811e+01, -1.86642e+01, -1.84473e+01,\n",
       "        -1.82304e+01, -1.80135e+01, -1.77966e+01, -1.75797e+01,\n",
       "        -1.73628e+01, -1.71459e+01, -1.69290e+01, -1.67121e+01,\n",
       "        -1.64952e+01, -1.62783e+01, -1.60614e+01, -1.58445e+01,\n",
       "        -1.56276e+01, -1.54107e+01, -1.51938e+01, -1.49769e+01,\n",
       "        -1.47600e+01, -1.45432e+01, -1.43263e+01, -1.41094e+01,\n",
       "        -1.38925e+01, -1.36756e+01, -1.34587e+01, -1.32418e+01,\n",
       "        -1.30249e+01, -1.28080e+01, -1.25911e+01, -1.23742e+01,\n",
       "        -1.21573e+01, -1.19404e+01, -1.17235e+01, -1.15066e+01,\n",
       "        -1.12897e+01, -1.10728e+01, -1.08559e+01, -1.06390e+01,\n",
       "        -1.04221e+01, -1.02052e+01, -9.98830e+00, -9.77150e+00,\n",
       "        -9.55460e+00, -9.33770e+00, -9.12080e+00, -8.90390e+00,\n",
       "        -8.68700e+00, -8.47010e+00, -8.25320e+00, -8.03630e+00,\n",
       "        -7.81940e+00, -7.60250e+00, -7.38560e+00, -7.16870e+00,\n",
       "        -6.95180e+00, -6.73490e+00, -6.51800e+00, -6.30110e+00,\n",
       "        -6.08420e+00, -5.86730e+00, -5.65040e+00, -5.43350e+00,\n",
       "        -5.21660e+00, -4.99980e+00, -4.78290e+00, -4.56600e+00,\n",
       "        -4.34910e+00, -4.13220e+00, -3.91530e+00, -3.69840e+00,\n",
       "        -3.48150e+00, -3.26460e+00, -3.04770e+00, -2.83080e+00,\n",
       "        -2.61390e+00, -2.39700e+00, -2.18010e+00, -1.96320e+00,\n",
       "        -1.74630e+00, -1.52940e+00, -1.31250e+00, -1.09560e+00,\n",
       "        -8.78700e-01, -6.61800e-01, -4.44900e-01, -2.28100e-01,\n",
       "        -1.12000e-02,  2.05700e-01,  4.22600e-01,  6.39500e-01,\n",
       "         8.56400e-01,  1.07330e+00,  1.29020e+00,  1.50710e+00,\n",
       "         1.72400e+00,  1.94090e+00,  2.15780e+00,  2.37470e+00,\n",
       "         2.59160e+00,  2.80850e+00,  3.02540e+00,  3.24230e+00,\n",
       "         3.45920e+00,  3.67610e+00,  3.89300e+00,  4.10990e+00,\n",
       "         4.32670e+00,  4.54360e+00,  4.76050e+00,  4.97740e+00,\n",
       "         5.19430e+00,  5.41120e+00,  5.62810e+00,  5.84500e+00,\n",
       "         6.06190e+00,  6.27880e+00,  6.49570e+00,  6.71260e+00,\n",
       "         6.92950e+00,  7.14640e+00,  7.36330e+00,  7.58020e+00,\n",
       "         7.79710e+00,  8.01400e+00,  8.23090e+00,  8.44780e+00,\n",
       "         8.66470e+00,  8.88160e+00,  9.09840e+00,  9.31530e+00,\n",
       "         9.53220e+00,  9.74910e+00,  9.96600e+00,  1.01829e+01,\n",
       "         1.03998e+01,  1.06167e+01,  1.08336e+01,  1.10505e+01,\n",
       "         1.12674e+01,  1.14843e+01,  1.17012e+01,  1.19181e+01,\n",
       "         1.21350e+01,  1.23519e+01,  1.25688e+01,  1.27857e+01,\n",
       "         1.30026e+01,  1.32195e+01,  1.34364e+01,  1.36533e+01,\n",
       "         1.38701e+01,  1.40870e+01,  1.43039e+01,  1.45208e+01,\n",
       "         1.47377e+01,  1.49546e+01,  1.51715e+01,  1.53884e+01,\n",
       "         1.56053e+01,  1.58222e+01,  1.60391e+01,  1.62560e+01,\n",
       "         1.64729e+01,  1.66898e+01,  1.69067e+01,  1.71236e+01,\n",
       "         1.73405e+01]),\n",
       " array([0.    , 0.    , 0.    , 0.    , 0.    , 0.    , 0.    , 0.    ,\n",
       "        0.    , 0.    , 0.    , 0.    , 0.    , 0.    , 0.    , 0.    ,\n",
       "        0.    , 0.    , 0.    , 0.    , 0.    , 0.    , 0.    , 0.    ,\n",
       "        0.    , 0.    , 0.    , 0.    , 0.    , 0.    , 0.    , 0.    ,\n",
       "        0.    , 0.    , 0.    , 0.    , 0.    , 0.    , 0.    , 0.    ,\n",
       "        0.    , 0.    , 0.    , 0.    , 0.    , 0.    , 0.    , 0.    ,\n",
       "        0.    , 0.    , 0.    , 0.    , 0.    , 0.    , 0.    , 0.    ,\n",
       "        0.    , 0.    , 0.    , 0.    , 0.    , 0.    , 0.    , 0.    ,\n",
       "        0.    , 0.    , 0.    , 0.    , 0.    , 0.    , 0.    , 0.    ,\n",
       "        0.    , 0.    , 0.    , 0.    , 0.    , 0.    , 0.    , 0.    ,\n",
       "        0.    , 0.    , 0.    , 0.    , 0.    , 0.    , 0.    , 0.    ,\n",
       "        0.    , 0.    , 0.    , 0.    , 0.    , 0.    , 0.    , 0.    ,\n",
       "        0.    , 0.    , 0.    , 0.    , 0.    , 0.    , 0.    , 0.    ,\n",
       "        0.    , 0.    , 0.    , 0.    , 0.    , 0.    , 0.    , 0.    ,\n",
       "        0.    , 0.    , 0.    , 0.    , 0.    , 0.    , 0.    , 0.    ,\n",
       "        0.    , 0.    , 0.    , 0.    , 0.    , 0.    , 0.    , 0.    ,\n",
       "        0.    , 0.    , 0.    , 0.    , 0.    , 0.    , 0.    , 0.    ,\n",
       "        0.    , 0.    , 0.    , 0.    , 0.    , 0.    , 0.    , 0.    ,\n",
       "        0.    , 0.    , 0.    , 0.    , 0.    , 0.    , 0.    , 0.    ,\n",
       "        0.    , 0.    , 0.    , 0.    , 0.    , 0.    , 0.    , 0.    ,\n",
       "        0.    , 0.    , 0.    , 0.    , 0.    , 0.    , 0.    , 0.    ,\n",
       "        0.    , 0.    , 0.    , 0.    , 0.    , 0.    , 0.    , 0.    ,\n",
       "        0.    , 0.    , 0.    , 0.    , 0.    , 0.    , 0.    , 0.    ,\n",
       "        0.    , 0.    , 0.    , 0.    , 0.    , 0.    , 0.    , 0.    ,\n",
       "        0.    , 0.    , 0.    , 0.    , 0.    , 0.    , 0.    , 0.    ,\n",
       "        0.    , 0.    , 0.    , 0.    , 0.    , 0.    , 0.    , 0.    ,\n",
       "        0.0008, 0.0015, 0.0039, 0.0044, 0.0089, 0.0084, 0.0051, 0.0105,\n",
       "        0.0071, 0.0073, 0.0034, 0.    , 0.0041, 0.    , 0.0005, 0.    ,\n",
       "        0.0034, 0.0041, 0.    , 0.0003, 0.004 , 0.0085, 0.0193, 0.0183,\n",
       "        0.    , 0.023 , 0.0351, 0.008 , 0.0021, 0.0063, 0.0113, 0.0001,\n",
       "        0.008 , 0.    , 0.    , 0.    , 0.    , 0.    , 0.    , 0.    ,\n",
       "        0.    , 0.0136, 0.0118, 0.0273, 0.0138, 0.0106, 0.    , 0.0292,\n",
       "        0.0315, 0.0469, 0.    , 0.0101, 0.052 , 0.0323, 0.0004, 0.0121,\n",
       "        0.0184, 0.0006, 0.0244, 0.    , 0.0145, 0.    , 0.0034, 0.0132,\n",
       "        0.0249, 0.0211, 0.0531, 0.0054, 0.    , 0.    , 0.0173, 0.0313,\n",
       "        0.0393, 0.0056, 0.    , 0.0114, 0.0038, 0.    , 0.    , 0.    ,\n",
       "        0.    , 0.    , 0.    , 0.    , 0.    , 0.    , 0.    , 0.    ,\n",
       "        0.    , 0.    , 0.    , 0.    , 0.    ]))"
      ]
     },
     "execution_count": 8,
     "metadata": {},
     "output_type": "execute_result"
    }
   ],
   "source": [
    "all_pdos['p']"
   ]
  }
 ],
 "metadata": {
  "kernelspec": {
   "display_name": "Python 3",
   "language": "python",
   "name": "python3"
  },
  "language_info": {
   "codemirror_mode": {
    "name": "ipython",
    "version": 3
   },
   "file_extension": ".py",
   "mimetype": "text/x-python",
   "name": "python",
   "nbconvert_exporter": "python",
   "pygments_lexer": "ipython3",
   "version": "3.6.8"
  }
 },
 "nbformat": 4,
 "nbformat_minor": 2
}
