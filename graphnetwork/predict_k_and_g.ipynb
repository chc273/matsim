{
 "cells": [
  {
   "cell_type": "markdown",
   "metadata": {},
   "source": [
    "## Load megnet models"
   ]
  },
  {
   "cell_type": "code",
   "execution_count": 1,
   "metadata": {},
   "outputs": [
    {
     "name": "stderr",
     "output_type": "stream",
     "text": [
      "Using TensorFlow backend.\n",
      "WARNING:root:Openbabel is needed for molecule models, try 'conda install -c openbabel openbabel' to install it\n"
     ]
    }
   ],
   "source": [
    "from megnet.utils.models import load_model\n",
    "from pymatgen import Structure, Lattice\n",
    "\n",
    "# load a model in megnet.utils.models.AVAILABLE_MODELS\n",
    "model_k = load_model(\"logK_MP_2018\") \n",
    "model_g = load_model(\"logG_MP_2018\")"
   ]
  },
  {
   "cell_type": "markdown",
   "metadata": {},
   "source": [
    "## Fetch structures from Materials Project"
   ]
  },
  {
   "cell_type": "code",
   "execution_count": 2,
   "metadata": {},
   "outputs": [],
   "source": [
    "from pymatgen import MPRester\n",
    "\n",
    "mpr = MPRester()  # in case you have not set up ENV VARIABLE, supply your API_KEY here"
   ]
  },
  {
   "cell_type": "code",
   "execution_count": 3,
   "metadata": {},
   "outputs": [],
   "source": [
    "mo_struct = mpr.get_structure_by_material_id(\"mp-129\")"
   ]
  },
  {
   "cell_type": "markdown",
   "metadata": {},
   "source": [
    "If you want to fetch all structures, use \n",
    "`mpr.query({}, properties=['material_id', 'structure']`. Use it with caution, since this is slow. The rule of thumb is to save all structures for later use instead of query them one-by-one (extremely slow). "
   ]
  },
  {
   "cell_type": "markdown",
   "metadata": {},
   "source": [
    "## Predict K and G"
   ]
  },
  {
   "cell_type": "code",
   "execution_count": null,
   "metadata": {},
   "outputs": [],
   "source": [
    "k = 10**model_k.predict_structure(mo_struct)."
   ]
  }
 ],
 "metadata": {
  "kernelspec": {
   "display_name": "Python 3",
   "language": "python",
   "name": "python3"
  },
  "language_info": {
   "codemirror_mode": {
    "name": "ipython",
    "version": 3
   },
   "file_extension": ".py",
   "mimetype": "text/x-python",
   "name": "python",
   "nbconvert_exporter": "python",
   "pygments_lexer": "ipython3",
   "version": "3.7.3"
  }
 },
 "nbformat": 4,
 "nbformat_minor": 2
}
