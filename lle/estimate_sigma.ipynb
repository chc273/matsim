{
 "cells": [
  {
   "cell_type": "code",
   "execution_count": 4,
   "metadata": {},
   "outputs": [],
   "source": [
    "import numpy as np\n",
    "from scipy import optimize\n",
    "data = {'Fe2+/Fe3+': 3 + 0.5*np.random.rand(5), \n",
    "       'Ni+/Ni2+': 2.5 + 0.3*np.random.rand(6),\n",
    "       'Mo3+/Mo6+': 5 + 0.6*np.random.rand(20)}"
   ]
  },
  {
   "cell_type": "code",
   "execution_count": 5,
   "metadata": {},
   "outputs": [
    {
     "data": {
      "text/plain": [
       "{'Fe2+/Fe3+': array([3.47958767, 3.20690258, 3.15767161, 3.31060199, 3.11079514]),\n",
       " 'Mo3+/Mo6+': array([5.07159899, 5.50054443, 5.3803844 , 5.05655973, 5.17137889,\n",
       "        5.47049034, 5.00139567, 5.36166293, 5.37077567, 5.29017114,\n",
       "        5.07779824, 5.18626155, 5.0000146 , 5.58200003, 5.19557047,\n",
       "        5.17529294, 5.26721923, 5.43187883, 5.28601382, 5.55787572]),\n",
       " 'Ni+/Ni2+': array([2.59004953, 2.60340789, 2.65790676, 2.66378104, 2.59052402,\n",
       "        2.57709107])}"
      ]
     },
     "execution_count": 5,
     "metadata": {},
     "output_type": "execute_result"
    }
   ],
   "source": [
    "data"
   ]
  },
  {
   "cell_type": "code",
   "execution_count": 54,
   "metadata": {},
   "outputs": [],
   "source": [
    "class LLE:\n",
    "    def __init__(self, data):\n",
    "        self.pairs = list(data.keys())\n",
    "        self.mean = {i: np.mean(data[i]) for i in self.pairs}\n",
    "        self.data = data\n",
    "    \n",
    "    def _log_likelihood(self, sigma, means):\n",
    "        _lle = 0\n",
    "        n = 0\n",
    "        for k, i in enumerate(self.pairs):\n",
    "            _lle += np.sum(-(self.data[i] - means[i])**2 / 2. / sigma**2)\n",
    "            n += len(self.data[i])\n",
    "        _lle += np.log(1./sigma / np.sqrt(2*np.pi)) * n\n",
    "        return _lle\n",
    "    \n",
    "    def direct_estimate(self):\n",
    "        _variance = 0\n",
    "        n = 0\n",
    "        for i in self.pairs:\n",
    "            _variance += np.sum((self.data[i] - self.mean[i])**2)\n",
    "            n += len(self.data[i])\n",
    "        return np.sqrt(_variance / n)\n",
    "    \n",
    "    def max_lle(self):\n",
    "\n",
    "        inits = [0.1] + [self.mean[i] for i in self.pairs]\n",
    "        def fun(x):\n",
    "            sigma = x[0]\n",
    "            means = {}\n",
    "            for k, i in enumerate(self.pairs):\n",
    "                means[i] = x[k + 1]\n",
    "            return -self._log_likelihood(sigma, means)\n",
    "\n",
    "        x = optimize.minimize(fun, inits)\n",
    "        x = x.x\n",
    "        return_dict = {'sigma': x[0]}\n",
    "        for k, i in enumerate(self.pairs):\n",
    "            return_dict.update({i: x[k + 1]})\n",
    "        return return_dict\n",
    "            \n",
    "        "
   ]
  },
  {
   "cell_type": "code",
   "execution_count": 55,
   "metadata": {},
   "outputs": [],
   "source": [
    "lle = LLE(data)"
   ]
  },
  {
   "cell_type": "markdown",
   "metadata": {},
   "source": [
    "### Maximum loglikelihood estimation "
   ]
  },
  {
   "cell_type": "code",
   "execution_count": 57,
   "metadata": {},
   "outputs": [
    {
     "name": "stdout",
     "output_type": "stream",
     "text": [
      "{'sigma': 0.1526507251479081, 'Fe2+/Fe3+': 3.2531117901014337, 'Ni+/Ni2+': 2.613793378534225, 'Mo3+/Mo6+': 5.271744372963482}\n"
     ]
    }
   ],
   "source": [
    "res = lle.max_lle()\n",
    "print(res)"
   ]
  },
  {
   "cell_type": "markdown",
   "metadata": {},
   "source": [
    "### Direct calculations"
   ]
  },
  {
   "cell_type": "code",
   "execution_count": 58,
   "metadata": {},
   "outputs": [
    {
     "name": "stdout",
     "output_type": "stream",
     "text": [
      "sigma =  0.15265073151925648\n",
      "Means\n",
      "{'Fe2+/Fe3+': 3.2531117968049785, 'Ni+/Ni2+': 2.6137933863184943, 'Mo3+/Mo6+': 5.271744380555459}\n"
     ]
    }
   ],
   "source": [
    "print('sigma = ', lle.direct_estimate())\n",
    "print('Means')\n",
    "print(lle.mean)"
   ]
  },
  {
   "cell_type": "code",
   "execution_count": null,
   "metadata": {},
   "outputs": [],
   "source": []
  }
 ],
 "metadata": {
  "kernelspec": {
   "display_name": "Python 3",
   "language": "python",
   "name": "python3"
  },
  "language_info": {
   "codemirror_mode": {
    "name": "ipython",
    "version": 3
   },
   "file_extension": ".py",
   "mimetype": "text/x-python",
   "name": "python",
   "nbconvert_exporter": "python",
   "pygments_lexer": "ipython3",
   "version": "3.6.8"
  }
 },
 "nbformat": 4,
 "nbformat_minor": 2
}
