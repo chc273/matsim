{
 "cells": [
  {
   "cell_type": "code",
   "execution_count": 2,
   "metadata": {},
   "outputs": [],
   "source": [
    "import numpy as np\n",
    "from scipy import optimize\n",
    "data = {'Fe2+/Fe3+': 3 + 0.5*np.random.rand(5), \n",
    "       'Ni+/Ni2+': 2.5 + 0.3*np.random.rand(6),\n",
    "       'Mo3+/Mo6+': 5 + 0.6*np.random.rand(20)}"
   ]
  },
  {
   "cell_type": "code",
   "execution_count": 3,
   "metadata": {},
   "outputs": [
    {
     "data": {
      "text/plain": [
       "{'Fe2+/Fe3+': array([3.06661112, 3.04563037, 3.13762942, 3.02571441, 3.29834819]),\n",
       " 'Mo3+/Mo6+': array([5.12700703, 5.50580413, 5.31131817, 5.10261627, 5.49345693,\n",
       "        5.48924409, 5.04705783, 5.1138715 , 5.16387572, 5.4708192 ,\n",
       "        5.2845949 , 5.34453187, 5.14853128, 5.23297091, 5.2513268 ,\n",
       "        5.0287959 , 5.12951514, 5.14714398, 5.39637241, 5.40610089]),\n",
       " 'Ni+/Ni2+': array([2.77611893, 2.79171489, 2.54777354, 2.77875273, 2.59049374,\n",
       "        2.63348917])}"
      ]
     },
     "execution_count": 3,
     "metadata": {},
     "output_type": "execute_result"
    }
   ],
   "source": [
    "data"
   ]
  },
  {
   "cell_type": "code",
   "execution_count": 4,
   "metadata": {},
   "outputs": [],
   "source": [
    "class LLE:\n",
    "    def __init__(self, data):\n",
    "        self.pairs = list(data.keys())\n",
    "        self.mean = {i: np.mean(data[i]) for i in self.pairs}\n",
    "        self.data = data\n",
    "    \n",
    "    def _log_likelihood(self, sigma):\n",
    "        _lle = 0\n",
    "        n = 0\n",
    "        for i in self.pairs:\n",
    "            _lle += np.sum(-(self.data[i] - self.mean[i])**2 / 2. / sigma**2)\n",
    "            n += len(self.data[i])\n",
    "        _lle += np.log(1./sigma / np.sqrt(2*np.pi)) * n\n",
    "        return _lle\n",
    "    \n",
    "    def direct_estimate(self):\n",
    "        _variance = 0\n",
    "        n = 0\n",
    "        for i in self.pairs:\n",
    "            _variance += np.sum((self.data[i] - self.mean[i])**2)\n",
    "            n += len(self.data[i])\n",
    "        return np.sqrt(_variance / n)\n",
    "    \n",
    "    def max_lle(self, sigma0=1):\n",
    "        fun = lambda x: -self._log_likelihood(x)\n",
    "        return optimize.minimize(fun, sigma0)\n",
    "        "
   ]
  },
  {
   "cell_type": "code",
   "execution_count": 5,
   "metadata": {},
   "outputs": [],
   "source": [
    "lle = LLE(data)"
   ]
  },
  {
   "cell_type": "code",
   "execution_count": 6,
   "metadata": {},
   "outputs": [
    {
     "name": "stdout",
     "output_type": "stream",
     "text": [
      "Sigma = 0.1374\n"
     ]
    }
   ],
   "source": [
    "res = lle.max_lle(0.1)\n",
    "print('Sigma = %.4f' % res.x)"
   ]
  },
  {
   "cell_type": "code",
   "execution_count": 7,
   "metadata": {},
   "outputs": [
    {
     "data": {
      "text/plain": [
       "0.13739834212628022"
      ]
     },
     "execution_count": 7,
     "metadata": {},
     "output_type": "execute_result"
    }
   ],
   "source": [
    "lle.direct_estimate()"
   ]
  },
  {
   "cell_type": "code",
   "execution_count": 9,
   "metadata": {},
   "outputs": [
    {
     "data": {
      "text/plain": [
       "Text(0,0.5,'LLE')"
      ]
     },
     "execution_count": 9,
     "metadata": {},
     "output_type": "execute_result"
    },
    {
     "data": {
      "image/png": "[encoded data removed]",
      "text/plain": [
       "<Figure size 432x288 with 1 Axes>"
      ]
     },
     "metadata": {},
     "output_type": "display_data"
    }
   ],
   "source": [
    "import matplotlib.pyplot as plt\n",
    "%matplotlib inline\n",
    "plt.figure(figsize=(6, 4))\n",
    "plt.rcParams['font.size'] = 14\n",
    "x = np.linspace(0.01, 0.4, 1000)\n",
    "y = [lle._log_likelihood(i) for i in x]\n",
    "plt.plot(x, y)\n",
    "plt.yscale('symlog')\n",
    "ind = np.argmax(y)\n",
    "plt.plot(x[ind], y[ind], 'or')\n",
    "plt.title('Max is at $\\sigma$ = %.4f' % x[ind])\n",
    "plt.xlabel('$\\sigma$')\n",
    "plt.ylabel('LLE')"
   ]
  },
  {
   "cell_type": "code",
   "execution_count": null,
   "metadata": {},
   "outputs": [],
   "source": []
  }
 ],
 "metadata": {
  "kernelspec": {
   "display_name": "Python 3",
   "language": "python",
   "name": "python3"
  },
  "language_info": {
   "codemirror_mode": {
    "name": "ipython",
    "version": 3
   },
   "file_extension": ".py",
   "mimetype": "text/x-python",
   "name": "python",
   "nbconvert_exporter": "python",
   "pygments_lexer": "ipython3",
   "version": "3.6.8"
  }
 },
 "nbformat": 4,
 "nbformat_minor": 2
}
